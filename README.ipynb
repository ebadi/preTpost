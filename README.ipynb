{
 "cells": [
  {
   "cell_type": "markdown",
   "metadata": {},
   "source": [
    "```\n",
    "  _____       _______ _____          _\n",
    " |  __ \\     |__   __|  __ \\        | |\n",
    " | |__) | __ ___| |  | |__) |__  ___| |_\n",
    " |  ___/ V__/ _ \\ |  |  ___/ _ \\/ __| __|\n",
    " | |   | | |  __/ |  | |  | (_) \\__ \\ |_\n",
    " |_|   |_|  \\___|_|  |_|   \\___/|___/\\__|\n",
    "\n",
    "```\n",
    "\n",
    "\n",
    "# Installing PreTPost\n",
    "Start by installing [nsjail](https://github.com/google/nsjail) in the `agent/nsjail` directory.\n",
    "Make sure agents have these packages installed and accessible within the nsjail sandbox.\n",
    "\n",
    "# Running the agent\n",
    "The `sensitiveData.ini` file contains that sensitive data. To run the agent on the port 5000, run the following command:\n",
    "```\n",
    "cd agent\n",
    "pkill -9 nsjail ; pkill -9 python ; clear; rm -rf instance* ; python3 agent.py --port 5000 --parallel 10\n",
    "```\n",
    "\n",
    "Use your browser to see the [analysis upload form](http://localhost:5000/form), [public policy](http://localhost:5000/publicpolicy) and current [total cost](http://localhost:5000/totalcost) and the result of previous analysis: [start here](http://localhost:5000/hello)\n",
    "\n",
    "Private and public data and intermediate results are [listed](http://localhost:5000) for the debugging purpose.\n",
    "\n",
    "# Running the curator\n",
    "Run several agents on different machines or several instances on the same machine but using different ports and list their URI in the `agentlist.py` and run the following command.\n",
    "```\n",
    "python3 curatorRansomisedResponse.py\n",
    "```\n",
    "\n",
    "# Running an standalone analysis  \n",
    "To modify and debug an analysis you can run it outside the sandbox:\n",
    "\n",
    "```\n",
    "export PYTHONPATH=$PYTHONPATH:FULLPATH/libdp/\n",
    "```\n",
    "Running the pre-processing script\n",
    "```\n",
    "cd curator/analysis/randomized-response/\n",
    "python3 preproc.py  ../../../agent/sensitiveData.ini ./out.txt\n",
    "```\n",
    "Running  the post-processing script\n",
    "```\n",
    "cd curator/analysis/randomized-response/\n",
    "python3 postproc.py  ./out.txt  outRandomised.txt 0.1\n",
    "```\n",
    "\n",
    "## Contribution\n",
    "Contributions are welcome and appreciated. Please conform to [PEP8 coding style](http://www.python.org/dev/peps/pep-0008/).\n",
    "\n"
   ]
  },
  {
   "cell_type": "markdown",
   "metadata": {},
   "source": [
    "# libdp Library\n",
    "To generate a staircase matrix with the privacy cost of 2:"
   ]
  },
  {
   "cell_type": "code",
   "execution_count": 1,
   "metadata": {},
   "outputs": [
    {
     "name": "stdout",
     "output_type": "stream",
     "text": [
      "attribute,-1,1\n",
      "-1,7.38905609893065,1\n",
      "1,1,7.38905609893065\n",
      "\n"
     ]
    }
   ],
   "source": [
    "import libdp.libdp as dp\n",
    "epsilon = 2\n",
    "dpMatrix= dp.buildStairCaseMatrix(epsilon, [\"-1\", \"1\"])\n",
    "print(dpMatrix)"
   ]
  },
  {
   "cell_type": "markdown",
   "metadata": {},
   "source": [
    "After saving the content in the matrix.txt file, you can load it using loadTransitionMatrix() function."
   ]
  },
  {
   "cell_type": "code",
   "execution_count": 1,
   "metadata": {},
   "outputs": [
    {
     "ename": "NameError",
     "evalue": "name 'dpMatrix' is not defined",
     "output_type": "error",
     "traceback": [
      "\u001b[0;31m---------------------------------------------------------------------------\u001b[0m",
      "\u001b[0;31mNameError\u001b[0m                                 Traceback (most recent call last)",
      "\u001b[0;32m<ipython-input-1-b2ce2e567861>\u001b[0m in \u001b[0;36m<module>\u001b[0;34m()\u001b[0m\n\u001b[1;32m      1\u001b[0m \u001b[0;32mwith\u001b[0m \u001b[0mopen\u001b[0m\u001b[0;34m(\u001b[0m\u001b[0;34m\"matrix.txt\"\u001b[0m\u001b[0;34m,\u001b[0m \u001b[0;34m\"w\"\u001b[0m\u001b[0;34m)\u001b[0m \u001b[0;32mas\u001b[0m \u001b[0mtfile\u001b[0m\u001b[0;34m:\u001b[0m\u001b[0;34m\u001b[0m\u001b[0m\n\u001b[0;32m----> 2\u001b[0;31m     \u001b[0mprint\u001b[0m\u001b[0;34m(\u001b[0m\u001b[0mdpMatrix\u001b[0m\u001b[0;34m,\u001b[0m \u001b[0mfile\u001b[0m\u001b[0;34m=\u001b[0m\u001b[0mtfile\u001b[0m\u001b[0;34m)\u001b[0m\u001b[0;34m\u001b[0m\u001b[0m\n\u001b[0m\u001b[1;32m      3\u001b[0m \u001b[0mm\u001b[0m\u001b[0;34m,\u001b[0m \u001b[0mf\u001b[0m \u001b[0;34m=\u001b[0m \u001b[0mdp\u001b[0m\u001b[0;34m.\u001b[0m\u001b[0mloadTransitionMatrix\u001b[0m\u001b[0;34m(\u001b[0m\u001b[0;34m'matrix.txt'\u001b[0m\u001b[0;34m)\u001b[0m\u001b[0;34m\u001b[0m\u001b[0m\n\u001b[1;32m      4\u001b[0m \u001b[0mprint\u001b[0m\u001b[0;34m(\u001b[0m\u001b[0mf\u001b[0m\u001b[0;34m)\u001b[0m\u001b[0;34m\u001b[0m\u001b[0m\n",
      "\u001b[0;31mNameError\u001b[0m: name 'dpMatrix' is not defined"
     ]
    }
   ],
   "source": [
    "with open(\"matrix.txt\", \"w\") as tfile:\n",
    "    print(dpMatrix, file=tfile)\n",
    "m, f = dp.loadTransitionMatrix('matrix.txt')\n",
    "print(f)"
   ]
  },
  {
   "cell_type": "code",
   "execution_count": 3,
   "metadata": {},
   "outputs": [
    {
     "name": "stdout",
     "output_type": "stream",
     "text": [
      "{('1', '-1'): 0.11920292202211755, ('-1', '1'): 0.11920292202211755, ('1', '1'): 0.8807970779778824, ('-1', '-1'): 0.8807970779778824}\n"
     ]
    }
   ],
   "source": [
    "print(m)"
   ]
  },
  {
   "cell_type": "code",
   "execution_count": 4,
   "metadata": {},
   "outputs": [
    {
     "name": "stdout",
     "output_type": "stream",
     "text": [
      "2.0\n"
     ]
    }
   ],
   "source": [
    "print (dp.measureEpsilon(m, f))"
   ]
  },
  {
   "cell_type": "markdown",
   "metadata": {},
   "source": [
    "# curatorlibdp Library\n",
    "To send queries and get responses from agents"
   ]
  },
  {
   "cell_type": "code",
   "execution_count": 5,
   "metadata": {
    "scrolled": true
   },
   "outputs": [
    {
     "name": "stdout",
     "output_type": "stream",
     "text": [
      "[\n",
      "reqId: uri:http://localhost:5000/ budget:9120.0 results:{}, \n",
      "reqId: uri:http://127.0.0.1:5000/ budget:9120.0 results:{}]\n"
     ]
    }
   ],
   "source": [
    "import sys,os\n",
    "sys.path.append(\"curator/curatorlibdp\")\n",
    "\n",
    "import curator.curatorlibdp.curatorlibdp as cdp\n",
    "analysis = cdp.ReqResList()\n",
    "print (analysis)"
   ]
  },
  {
   "cell_type": "code",
   "execution_count": 6,
   "metadata": {},
   "outputs": [
    {
     "name": "stdout",
     "output_type": "stream",
     "text": [
      "[\n",
      "reqId:1511188853487 uri:http://localhost:5000/ budget:9120.0 results:{0=1.3130352854993312,}, \n",
      "reqId:1511188853503 uri:http://127.0.0.1:5000/ budget:9120.0 results:{0=-1.3130352854993312,}]\n"
     ]
    }
   ],
   "source": [
    "import sys\n",
    "sys.path.append(\"curator/curatorlibdp\")\n",
    "\n",
    "import curator.curatorlibdp.curatorlibdp as cdp\n",
    "analysis = cdp.ReqResList()\n",
    "analysis.runIdenticalQuery(\n",
    "        pre='curator/analysis/randomized-response/preproc.py',\n",
    "        preParam=str(epsilon),\n",
    "        timeout=2,\n",
    "        cpu=2,\n",
    "        typeDataList=[('analysesMatrix', dpMatrix)],\n",
    "        post='curator/analysis/randomized-response/postproc.py',\n",
    "        postParam=str(epsilon),\n",
    "    )\n",
    "print(analysis.ReqReslist)"
   ]
  },
  {
   "cell_type": "code",
   "execution_count": null,
   "metadata": {
    "collapsed": true
   },
   "outputs": [],
   "source": []
  }
 ],
 "metadata": {
  "kernelspec": {
   "display_name": "Python 3",
   "language": "python",
   "name": "python3"
  },
  "language_info": {
   "codemirror_mode": {
    "name": "ipython",
    "version": 3
   },
   "file_extension": ".py",
   "mimetype": "text/x-python",
   "name": "python",
   "nbconvert_exporter": "python",
   "pygments_lexer": "ipython3",
   "version": "3.5.2"
  }
 },
 "nbformat": 4,
 "nbformat_minor": 2
}
